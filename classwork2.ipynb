{
 "cells": [
  {
   "cell_type": "code",
   "execution_count": 9,
   "metadata": {},
   "outputs": [
    {
     "name": "stdout",
     "output_type": "stream",
     "text": [
      "Accuracy: 1.0\n",
      "Perceptron Confusion Matrix:\n",
      " [[2 0]\n",
      " [0 3]]\n"
     ]
    },
    {
     "name": "stderr",
     "output_type": "stream",
     "text": [
      "/home/iamgraced/.local/lib/python3.8/site-packages/sklearn/utils/validation.py:1183: DataConversionWarning: A column-vector y was passed when a 1d array was expected. Please change the shape of y to (n_samples, ), for example using ravel().\n",
      "  y = column_or_1d(y, warn=True)\n"
     ]
    }
   ],
   "source": [
    "#Import required libraries \n",
    "from sklearn.datasets import load_iris \n",
    "from sklearn.linear_model import Perceptron \n",
    "from sklearn.model_selection import train_test_split \n",
    "from sklearn.metrics import accuracy_score \n",
    "from sklearn.metrics import confusion_matrix \n",
    "import pandas as pd\n",
    "\n",
    "#Load the Iris dataset \n",
    "iris = load_iris() \n",
    "#View the iris data keys \n",
    "\n",
    "iris.keys() \n",
    "\n",
    "#it is a key of dictionary iris \n",
    "\n",
    "iris.target_names \n",
    "\n",
    "##Convert data and target into a data frame. \n",
    "#Extract the First 100 Features\n",
    "X = pd.DataFrame(data = iris.data[:100,:], columns = iris.feature_names) \n",
    "X.head(100) #Inspect the features \n",
    "#Target \n",
    "y = pd.DataFrame(data=iris.target[:100], columns = ['irisType']) \n",
    "y.head(100)\n",
    "\n",
    "# Split the dataset into training and testing sets \n",
    "X_train, X_test, y_train, y_test = train_test_split(X, y, test_size=0.2, random_state=42) # Create a Perceptron classifier \n",
    "mdlPercept = Perceptron() \n",
    "# Train the classifier \n",
    "mdlPercept.fit(X_train, y_train) \n",
    "# Make predictions on the test set \n",
    "y_pred = mdlPercept.predict(X_test) \n",
    "# Calculate accuracy of the classifier \n",
    "accuracy = accuracy_score(y_test, y_pred) \n",
    "print(\"Accuracy:\", accuracy) \n",
    "#Generate the Confusion Matrix \n",
    "print(\"Perceptron Confusion Matrix:\\n\",confusion_matrix(y_test, y_pred))"
   ]
  }
 ],
 "metadata": {
  "kernelspec": {
   "display_name": "Python 3",
   "language": "python",
   "name": "python3"
  },
  "language_info": {
   "codemirror_mode": {
    "name": "ipython",
    "version": 3
   },
   "file_extension": ".py",
   "mimetype": "text/x-python",
   "name": "python",
   "nbconvert_exporter": "python",
   "pygments_lexer": "ipython3",
   "version": "3.8.10"
  }
 },
 "nbformat": 4,
 "nbformat_minor": 2
}
